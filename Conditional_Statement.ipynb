{
  "nbformat": 4,
  "nbformat_minor": 0,
  "metadata": {
    "colab": {
      "provenance": [],
      "authorship_tag": "ABX9TyPcjmMAukmtbOWC1FFWSdTx",
      "include_colab_link": true
    },
    "kernelspec": {
      "name": "python3",
      "display_name": "Python 3"
    },
    "language_info": {
      "name": "python"
    }
  },
  "cells": [
    {
      "cell_type": "markdown",
      "metadata": {
        "id": "view-in-github",
        "colab_type": "text"
      },
      "source": [
        "<a href=\"https://colab.research.google.com/github/AnnJossanMayor/CPE-0332.1-1-Elective-3-Lab/blob/main/Conditional_Statement.ipynb\" target=\"_parent\"><img src=\"https://colab.research.google.com/assets/colab-badge.svg\" alt=\"Open In Colab\"/></a>"
      ]
    },
    {
      "cell_type": "markdown",
      "source": [
        "If Statement\n"
      ],
      "metadata": {
        "id": "ygRBal9iCQOY"
      }
    },
    {
      "cell_type": "code",
      "source": [
        "a = 12\n",
        "b = 100\n",
        "\n",
        "if a<b:\n",
        "  print(\"a is less than b\")"
      ],
      "metadata": {
        "colab": {
          "base_uri": "https://localhost:8080/"
        },
        "id": "kA0OOqrzCU1Q",
        "outputId": "5ea5d42d-c4b7-4afb-d5f8-d51bd07a78cb"
      },
      "execution_count": null,
      "outputs": [
        {
          "output_type": "stream",
          "name": "stdout",
          "text": [
            "a is less than b\n"
          ]
        }
      ]
    },
    {
      "cell_type": "markdown",
      "source": [
        "Elif Statement\n"
      ],
      "metadata": {
        "id": "cjDa4-vvCqpR"
      }
    },
    {
      "cell_type": "code",
      "source": [
        "age = input(\"Enter your age: \")\n",
        "age = int(age)\n",
        "if age >= 18:\n",
        "  print(\"You are qualified to get a license\")\n",
        "elif age < 18:\n",
        "  print(\"You are not qualified to get a license\")"
      ],
      "metadata": {
        "colab": {
          "base_uri": "https://localhost:8080/"
        },
        "id": "h06spN24CrVg",
        "outputId": "13599b88-96a1-4d1f-fded-43ee90cbbd76"
      },
      "execution_count": null,
      "outputs": [
        {
          "output_type": "stream",
          "name": "stdout",
          "text": [
            "You are qualified to get a license\n"
          ]
        }
      ]
    },
    {
      "cell_type": "markdown",
      "source": [
        "Else Statement"
      ],
      "metadata": {
        "id": "AVre2L2mEfhw"
      }
    },
    {
      "cell_type": "code",
      "source": [
        "x = int(input(\"Enter an integer: \"))\n",
        "if x > 0:\n",
        "  print(\"Positive Number\")\n",
        "elif x < 0:\n",
        "  print(\"Negative Number\")\n",
        "else:\n",
        "  print(\"Zero\")\n",
        "\n",
        "\n"
      ],
      "metadata": {
        "colab": {
          "base_uri": "https://localhost:8080/"
        },
        "id": "MtObw2I6Ef-p",
        "outputId": "eda305e0-4bf4-4253-810e-861e4f3609ea"
      },
      "execution_count": null,
      "outputs": [
        {
          "output_type": "stream",
          "name": "stdout",
          "text": [
            "Enter an integer: 0\n",
            "Zero\n"
          ]
        }
      ]
    },
    {
      "cell_type": "markdown",
      "source": [
        "Short Hand If Statement"
      ],
      "metadata": {
        "id": "wIyywr-eFaA4"
      }
    },
    {
      "cell_type": "code",
      "source": [
        "if a < b: print(\"a is less than b\")"
      ],
      "metadata": {
        "colab": {
          "base_uri": "https://localhost:8080/"
        },
        "id": "nVcDrhduFaZJ",
        "outputId": "a3fcd027-5c2b-443f-cea3-5713b9d8b437"
      },
      "execution_count": null,
      "outputs": [
        {
          "output_type": "stream",
          "name": "stdout",
          "text": [
            "a is less than b\n"
          ]
        }
      ]
    },
    {
      "cell_type": "markdown",
      "source": [
        "Short Hand If Else Statement"
      ],
      "metadata": {
        "id": "sVKC7kP-GFnJ"
      }
    },
    {
      "cell_type": "code",
      "source": [
        "print(\"a is greater than b\") if a > b else print(\"b is greater than a\")"
      ],
      "metadata": {
        "colab": {
          "base_uri": "https://localhost:8080/"
        },
        "id": "4LJ5NDZEGF9A",
        "outputId": "d9db2124-e869-4c81-a12b-92b08babe324"
      },
      "execution_count": null,
      "outputs": [
        {
          "output_type": "stream",
          "name": "stdout",
          "text": [
            "b is greater than a\n"
          ]
        }
      ]
    },
    {
      "cell_type": "markdown",
      "source": [
        "And Statement"
      ],
      "metadata": {
        "id": "Om_mHlnZGiFA"
      }
    },
    {
      "cell_type": "code",
      "source": [
        "\n",
        "c = 500\n",
        "\n",
        "if a < b and c > a:\n",
        "  print(\"Both statements are True\")"
      ],
      "metadata": {
        "id": "kuHoXjCNGigo"
      },
      "execution_count": null,
      "outputs": []
    },
    {
      "cell_type": "markdown",
      "source": [
        "Or Statement"
      ],
      "metadata": {
        "id": "fj5X7SdbHPXJ"
      }
    },
    {
      "cell_type": "code",
      "source": [
        "\n",
        "c = 500\n",
        "\n",
        "if a < b or c > a:\n",
        "  print(\"Both statements are True\")"
      ],
      "metadata": {
        "colab": {
          "base_uri": "https://localhost:8080/"
        },
        "id": "uJaBXv1hHQso",
        "outputId": "6f9fe496-5dd8-4576-9238-8ceec62c2779"
      },
      "execution_count": null,
      "outputs": [
        {
          "output_type": "stream",
          "name": "stdout",
          "text": [
            "Both statements are True\n"
          ]
        }
      ]
    },
    {
      "cell_type": "markdown",
      "source": [
        "Nested If Statement"
      ],
      "metadata": {
        "id": "B4FRuvnNHotZ"
      }
    },
    {
      "cell_type": "code",
      "source": [
        "x = int(input(\"Enter an Integer: \"))\n",
        "\n",
        "if x > 10:\n",
        "    print(\"Above ten,\")\n",
        "    if x > 20:\n",
        "        print(\"and also above 20.\")\n",
        "        if x > 30:\n",
        "            print(\"and also above 30.\")\n",
        "            if x > 40:\n",
        "                print(\"and also above 40.\")\n",
        "                if x > 50:\n",
        "                    print(\"and also above 50.\")\n",
        "                else:\n",
        "                    print(\"but not above 50.\")\n",
        "            else:\n",
        "                print(\"but not above 40.\")\n",
        "        else:\n",
        "            print(\"but not above 30.\")\n",
        "    else:\n",
        "        print(\"but not above 20.\")\n",
        "else:\n",
        "    print(\"Ten or below.\")\n"
      ],
      "metadata": {
        "id": "9S4paTDkHrz5"
      },
      "execution_count": null,
      "outputs": []
    },
    {
      "cell_type": "markdown",
      "source": [
        "Application 2: Write a program to determine if the grades are:\n",
        "\n",
        "If:\n",
        "\n",
        "grade > = 75, \"Passed\"\n",
        "grade = 74, \"Remedial\"\n",
        "grade < 74, \"Failed\"\n",
        "note: if grade is negative number, it will not accept"
      ],
      "metadata": {
        "id": "6nDF25RbMMsQ"
      }
    },
    {
      "cell_type": "code",
      "source": [
        "#Check if the input grade is Passed, Remedial, or Failed\n",
        "def grade_status(grade):\n",
        "    if grade < 0:\n",
        "        return \"Invalid grade, please enter a non-negative number.\"\n",
        "    elif grade >= 75:\n",
        "        return \"Passed\"\n",
        "    elif 74 <= grade <= 74.9:\n",
        "        return \"Remedial\"\n",
        "    else:\n",
        "        return \"Failed\"\n",
        "\n",
        "#Take grade input from the user\n",
        "try:\n",
        "    grade = float(input(\"Enter the grade: \"))\n",
        "    result = grade_status(grade)\n",
        "    print(result)\n",
        "except ValueError:\n",
        "    print(\"Invalid input, please enter a valid number.\")\n"
      ],
      "metadata": {
        "id": "YSUBqaIuNN2y"
      },
      "execution_count": null,
      "outputs": []
    }
  ]
}